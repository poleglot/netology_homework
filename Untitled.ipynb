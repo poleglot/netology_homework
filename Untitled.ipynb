{
 "cells": [
  {
   "cell_type": "code",
   "execution_count": 17,
   "id": "7d47b0e8",
   "metadata": {},
   "outputs": [
    {
     "name": "stdout",
     "output_type": "stream",
     "text": [
      "4\n",
      "4\n",
      "4\n",
      "4\n",
      "4\n",
      "4\n",
      "4\n",
      "4\n",
      "4\n",
      "4\n",
      "************************************\n",
      "Сумма элементов массива равна 40\n"
     ]
    }
   ],
   "source": [
    "arr = []\n",
    "summ = 0\n",
    "for i in range(10):\n",
    "    arr.append(int(input()))\n",
    "for i in range(len(arr)):\n",
    "    summ += arr[i]\n",
    "    \n",
    "# if summ == sum(arr):\n",
    "#     print('Получилось', summ, sum(arr))\n",
    "# else:\n",
    "#     print('Долбаеб', summ, sum(arr))\n",
    "\n",
    "print('************************************')\n",
    "print('Сумма элементов массива равна', summ)"
   ]
  }
 ],
 "metadata": {
  "kernelspec": {
   "display_name": "Python 3 (ipykernel)",
   "language": "python",
   "name": "python3"
  },
  "language_info": {
   "codemirror_mode": {
    "name": "ipython",
    "version": 3
   },
   "file_extension": ".py",
   "mimetype": "text/x-python",
   "name": "python",
   "nbconvert_exporter": "python",
   "pygments_lexer": "ipython3",
   "version": "3.9.12"
  }
 },
 "nbformat": 4,
 "nbformat_minor": 5
}
