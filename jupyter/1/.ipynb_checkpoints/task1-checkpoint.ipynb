{
 "cells": [
  {
   "cell_type": "code",
   "execution_count": 27,
   "id": "2ce6c440",
   "metadata": {},
   "outputs": [
    {
     "name": "stdout",
     "output_type": "stream",
     "text": [
      "Введите размер массива: 5\n",
      "Введите  5 чисел\n",
      "Введите число: 1\n",
      "Введите число: 2\n",
      "Введите число: 3\n",
      "Введите число: g\n",
      "Это не число\n",
      "Введите число h\n",
      "Это не число\n",
      "Введите число j\n",
      "Это не число\n",
      "Введите число d\n",
      "Это не число\n",
      "Введите число a\n",
      "Это не число\n",
      "Введите число e\n",
      "Это не число\n",
      "Введите число 4\n",
      "Введите число: 5\n",
      "************************************\n",
      "Сумма элементов массива равна 15\n"
     ]
    }
   ],
   "source": [
    "array = []\n",
    "sum_of_element_array = 0\n",
    "array_size = int(input('Введите размер массива: '))\n",
    "print('Введите ', array_size, 'чисел')\n",
    "for i in range(array_size):\n",
    "    number = input('Введите число: ')\n",
    "    while not number.isdigit():\n",
    "        print('Это не число')\n",
    "        number = input('Введите число ')\n",
    "    array.append(int(number))\n",
    "for i in range(len(array)):\n",
    "    sum_of_element_array += array[i]\n",
    "\n",
    "print('************************************')\n",
    "print('Сумма элементов массива равна', sum_of_element_array)"
   ]
  },
  {
   "cell_type": "markdown",
   "id": "8e790f72",
   "metadata": {},
   "source": [
    "# 5\n",
    "##### number = int(input('Введите число '))\n",
    "type(number)\n",
    "while number != int:\n",
    "    number = int(input('Введите число '))"
   ]
  },
  {
   "cell_type": "code",
   "execution_count": 13,
   "id": "0a3c1ff1",
   "metadata": {},
   "outputs": [
    {
     "name": "stdout",
     "output_type": "stream",
     "text": [
      "Введите число 5\n"
     ]
    }
   ],
   "source": [
    "number = int(input('Введите число '))\n",
    "while type(number) != int:\n",
    "    number = int(input('Введите число '))"
   ]
  },
  {
   "cell_type": "code",
   "execution_count": null,
   "id": "253fea9d",
   "metadata": {},
   "outputs": [],
   "source": []
  }
 ],
 "metadata": {
  "kernelspec": {
   "display_name": "Python 3 (ipykernel)",
   "language": "python",
   "name": "python3"
  },
  "language_info": {
   "codemirror_mode": {
    "name": "ipython",
    "version": 3
   },
   "file_extension": ".py",
   "mimetype": "text/x-python",
   "name": "python",
   "nbconvert_exporter": "python",
   "pygments_lexer": "ipython3",
   "version": "3.9.12"
  }
 },
 "nbformat": 4,
 "nbformat_minor": 5
}
